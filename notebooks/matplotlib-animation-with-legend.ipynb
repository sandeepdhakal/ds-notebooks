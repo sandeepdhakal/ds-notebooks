{
 "cells": [
  {
   "cell_type": "markdown",
   "id": "b28d4e58-9c10-470b-aef5-e212567d3b34",
   "metadata": {},
   "source": [
    "---\n",
    "title: Animated scatter plot with size legend with matplotlib\n",
    "date: '2025-04-17'\n",
    "categories:\n",
    "  - animation\n",
    "  - matplotlib\n",
    "---"
   ]
  },
  {
   "cell_type": "markdown",
   "id": "127aeee8-b269-452e-b9ea-674d5d687740",
   "metadata": {},
   "source": [
    "I have been looking at generating animated plots using Matplotlib, with the [official documentation](https://matplotlib.org/stable/users/explain/animations/animations.html) providing an excellent example for basic animations.\n",
    "\n",
    "However, I couldn't find any good examples of generating animations with legends for size of the marker in a scatter plot. I had been looking to animate the time and magnitude of the [25th April 2015 earthquake of Nepal](https://en.wikipedia.org/wiki/April_2015_Nepal_earthquake) along with its foreshocks and aftershocks.\n",
    "\n",
    "In this post, I will explain how I managed to achieve that (*with help from some excellent references online, of course*)."
   ]
  },
  {
   "cell_type": "markdown",
   "id": "e8404cbb-3fc3-41d5-b1a9-189e2750163e",
   "metadata": {},
   "source": [
    "## Getting the earthquake data\n",
    "\n",
    "The first step is of course to the get the data about the earthquakes. This is easily available using the [USGS Catalog](https://earthquake.usgs.gov/earthquakes/search/). I used `geopandas` to directly read a `GeoDataFrame` from the catalog's API, but I won't go into a lot of details here; the code below should be self explanatory.\n",
    "\n",
    "One important thing to note is that the catalog API doesn't support filtering by country. It only supports filtering by latitutde and longitude bounds (*west, south, east, north*). After this, I used the `within` method of `geopandas` to limit the results to earthquakes that occured only in Nepal. The `within` method requires a Polygon object. For this, I directly downloaded a *GeoJSON* file of the administrative boundaries from the [*geoBoundaries*](https://github.com/wmgeolab/geoBoundaries/tree/b7dd6a55701c76a330500ad9d9240f2b9997c6a8?tab=readme-ov-file) project on GitHub.\n"
   ]
  },
  {
   "cell_type": "code",
   "execution_count": 1,
   "id": "f0da36ca-fb0c-48d0-bafc-d6859d121fef",
   "metadata": {},
   "outputs": [],
   "source": [
    "import urllib.parse\n",
    "\n",
    "import geopandas as gpd\n",
    "import pandas as pd\n",
    "\n",
    "# these are the rough bounds of the earthquake and its aftershocks\n",
    "minlatitude, maxlatitude = 27, 29\n",
    "minlongitude, maxlongitude = 84, 87\n",
    "\n",
    "# limiting the search to April and May 2015, and only those >= 5 magnitude\n",
    "CATALOG_URL = \"https://earthquake.usgs.gov/fdsnws/event/1/query.geojson\"\n",
    "params = {\n",
    "    \"starttime\": \"2015-04-01\",\n",
    "    \"endtime\": \"2015-05-31\",\n",
    "    \"maxlatitude\": maxlatitude,\n",
    "    \"minlatitude\": minlatitude,\n",
    "    \"maxlongitude\": maxlongitude,\n",
    "    \"minlongitude\": minlongitude,\n",
    "    \"minmagnitude\": 5,\n",
    "    \"eventtype\": \"earthquake\",\n",
    "    \"orderby\": \"time\",\n",
    "}\n",
    "columns = [\"mag\", \"time\", \"geometry\"]\n",
    "\n",
    "url = f\"{CATALOG_URL}?{urllib.parse.urlencode(params)}\"\n",
    "quakes = gpd.read_file(url, columns=columns)\n",
    "\n",
    "# get the national boundary of Nepal\n",
    "boundary_url = \"https://media.githubusercontent.com/media/wmgeolab/geoBoundaries/refs/heads/main/releaseData/gbOpen/NPL/ADM0/geoBoundaries-NPL-ADM0.geojson\"\n",
    "nepal = gpd.read_file(boundary_url)\n",
    "\n",
    "# ensure both dataframes are in the same CRS\n",
    "quakes = quakes.to_crs(nepal.crs)\n",
    "\n",
    "# filter earthquakes to those within Nepal's boundaries\n",
    "quakes = quakes[quakes.within(nepal.iloc[0]['geometry'])]\n",
    "\n",
    "# sort from earliest to latest\n",
    "# localize the datetime to Nepal's datetime\n",
    "quakes = quakes.sort_values(\"time\", ascending=True, ignore_index=True)\n",
    "quakes[\"time\"] = pd.to_datetime(quakes[\"time\"], unit=\"ms\").dt.tz_localize(\n",
    "    tz=\"Asia/Kathmandu\",\n",
    ")\n",
    "\n",
    "# for working with matplotlib, add separate latitude/longitude columns\n",
    "quakes = quakes.join(\n",
    "    quakes.get_coordinates().rename(columns=dict(y=\"latitude\", x=\"longitude\"))\n",
    ")"
   ]
  },
  {
   "cell_type": "markdown",
   "id": "45fbcb69-2cc2-4121-8b5c-e774ad77e110",
   "metadata": {},
   "source": [
    "Now, lets look at what this data looks like, and then do a simple visualisation with `geopandas`.\n",
    "We have 30 earthquakes >= 5 magnitude."
   ]
  },
  {
   "cell_type": "code",
   "execution_count": 2,
   "id": "b76f413a-3b7f-4fd5-ba2a-be2d010f6621",
   "metadata": {},
   "outputs": [
    {
     "data": {
      "text/html": [
       "<div>\n",
       "<style scoped>\n",
       "    .dataframe tbody tr th:only-of-type {\n",
       "        vertical-align: middle;\n",
       "    }\n",
       "\n",
       "    .dataframe tbody tr th {\n",
       "        vertical-align: top;\n",
       "    }\n",
       "\n",
       "    .dataframe thead th {\n",
       "        text-align: right;\n",
       "    }\n",
       "</style>\n",
       "<table border=\"1\" class=\"dataframe\">\n",
       "  <thead>\n",
       "    <tr style=\"text-align: right;\">\n",
       "      <th></th>\n",
       "      <th>mag</th>\n",
       "      <th>time</th>\n",
       "      <th>geometry</th>\n",
       "      <th>longitude</th>\n",
       "      <th>latitude</th>\n",
       "    </tr>\n",
       "  </thead>\n",
       "  <tbody>\n",
       "    <tr>\n",
       "      <th>0</th>\n",
       "      <td>7.8</td>\n",
       "      <td>2015-04-25 06:11:25.950000+05:45</td>\n",
       "      <td>POINT Z (84.7314 28.2305 8.22)</td>\n",
       "      <td>84.7314</td>\n",
       "      <td>28.2305</td>\n",
       "    </tr>\n",
       "    <tr>\n",
       "      <th>1</th>\n",
       "      <td>6.1</td>\n",
       "      <td>2015-04-25 06:15:22.910000+05:45</td>\n",
       "      <td>POINT Z (85.5398 27.6285 10)</td>\n",
       "      <td>85.5398</td>\n",
       "      <td>27.6285</td>\n",
       "    </tr>\n",
       "    <tr>\n",
       "      <th>2</th>\n",
       "      <td>5.6</td>\n",
       "      <td>2015-04-25 06:18:10.870000+05:45</td>\n",
       "      <td>POINT Z (86.0213 27.6857 10)</td>\n",
       "      <td>86.0213</td>\n",
       "      <td>27.6857</td>\n",
       "    </tr>\n",
       "    <tr>\n",
       "      <th>3</th>\n",
       "      <td>5.4</td>\n",
       "      <td>2015-04-25 06:20:40.340000+05:45</td>\n",
       "      <td>POINT Z (84.492 28.2046 10)</td>\n",
       "      <td>84.4920</td>\n",
       "      <td>28.2046</td>\n",
       "    </tr>\n",
       "    <tr>\n",
       "      <th>4</th>\n",
       "      <td>5.1</td>\n",
       "      <td>2015-04-25 06:22:02.750000+05:45</td>\n",
       "      <td>POINT Z (85.1141 27.8006 10)</td>\n",
       "      <td>85.1141</td>\n",
       "      <td>27.8006</td>\n",
       "    </tr>\n",
       "  </tbody>\n",
       "</table>\n",
       "</div>"
      ],
      "text/plain": [
       "   mag                             time                        geometry  \\\n",
       "0  7.8 2015-04-25 06:11:25.950000+05:45  POINT Z (84.7314 28.2305 8.22)   \n",
       "1  6.1 2015-04-25 06:15:22.910000+05:45    POINT Z (85.5398 27.6285 10)   \n",
       "2  5.6 2015-04-25 06:18:10.870000+05:45    POINT Z (86.0213 27.6857 10)   \n",
       "3  5.4 2015-04-25 06:20:40.340000+05:45     POINT Z (84.492 28.2046 10)   \n",
       "4  5.1 2015-04-25 06:22:02.750000+05:45    POINT Z (85.1141 27.8006 10)   \n",
       "\n",
       "   longitude  latitude  \n",
       "0    84.7314   28.2305  \n",
       "1    85.5398   27.6285  \n",
       "2    86.0213   27.6857  \n",
       "3    84.4920   28.2046  \n",
       "4    85.1141   27.8006  "
      ]
     },
     "execution_count": 2,
     "metadata": {},
     "output_type": "execute_result"
    }
   ],
   "source": [
    "quakes.head()"
   ]
  },
  {
   "cell_type": "code",
   "execution_count": 3,
   "id": "0516341f-ea0c-4038-b305-f4fdb107f2e3",
   "metadata": {},
   "outputs": [
    {
     "data": {
      "image/png": "[encoded data removed]",
      "text/plain": [
       "<Figure size 600x400 with 1 Axes>"
      ]
     },
     "metadata": {},
     "output_type": "display_data"
    }
   ],
   "source": [
    "import matplotlib.pyplot as plt\n",
    "\n",
    "fig, ax = plt.subplots(figsize=(6,4))\n",
    "nepal.plot(color=\"white\", edgecolor=\"black\", ax=ax)\n",
    "quakes.plot(ax=ax, markersize='mag', color=\"red\")\n",
    "plt.show()"
   ]
  },
  {
   "cell_type": "markdown",
   "id": "bccb278f-bb65-4834-8e41-3b1403455222",
   "metadata": {},
   "source": [
    "Of course, some of these earthquakes might not be foreshocks or aftershocks, but that shouldn't matter for the purpose of this post. The main goal is to animate the scatter plot."
   ]
  },
  {
   "cell_type": "markdown",
   "id": "48109124-b5bc-49bc-aeca-d6998c96a452",
   "metadata": {},
   "source": [
    "## Generating the animated plot\n",
    "\n",
    "My goals for the plot were to:\n",
    "\n",
    "1. animate the time the earthquake occurred,\n",
    "2. marker sizes indicating the earthquake's magnitude,\n",
    "3. add a legend for the magnitude."
   ]
  },
  {
   "cell_type": "markdown",
   "id": "15d89c1c-5f3b-461f-97d1-40e0f80974e5",
   "metadata": {},
   "source": [
    "### Marker size for magnitudes\n",
    "\n",
    "Earthquake magnitudes are logarithmic in nature; for example, a magnitude 7 earthquake is 10 times stronger than a magnitude 6 one. To visualise this, I have used the following formula to calculate the marker size for the earthquakes.\n",
    "\n",
    "$marker\\_size = base\\_size \\times 10^{(magnitude - base\\_magnitude)}$"
   ]
  },
  {
   "cell_type": "code",
   "execution_count": 4,
   "id": "16992119-568f-49b6-ad37-36eda9c9cc70",
   "metadata": {},
   "outputs": [
    {
     "data": {
      "text/html": [
       "<div>\n",
       "<style scoped>\n",
       "    .dataframe tbody tr th:only-of-type {\n",
       "        vertical-align: middle;\n",
       "    }\n",
       "\n",
       "    .dataframe tbody tr th {\n",
       "        vertical-align: top;\n",
       "    }\n",
       "\n",
       "    .dataframe thead th {\n",
       "        text-align: right;\n",
       "    }\n",
       "</style>\n",
       "<table border=\"1\" class=\"dataframe\">\n",
       "  <thead>\n",
       "    <tr style=\"text-align: right;\">\n",
       "      <th></th>\n",
       "      <th>mag</th>\n",
       "      <th>time</th>\n",
       "      <th>geometry</th>\n",
       "      <th>longitude</th>\n",
       "      <th>latitude</th>\n",
       "      <th>marker_size</th>\n",
       "    </tr>\n",
       "  </thead>\n",
       "  <tbody>\n",
       "    <tr>\n",
       "      <th>0</th>\n",
       "      <td>7.8</td>\n",
       "      <td>2015-04-25 06:11:25.950000+05:45</td>\n",
       "      <td>POINT Z (84.7314 28.2305 8.22)</td>\n",
       "      <td>84.7314</td>\n",
       "      <td>28.2305</td>\n",
       "      <td>6309.573445</td>\n",
       "    </tr>\n",
       "    <tr>\n",
       "      <th>1</th>\n",
       "      <td>6.1</td>\n",
       "      <td>2015-04-25 06:15:22.910000+05:45</td>\n",
       "      <td>POINT Z (85.5398 27.6285 10)</td>\n",
       "      <td>85.5398</td>\n",
       "      <td>27.6285</td>\n",
       "      <td>125.892541</td>\n",
       "    </tr>\n",
       "    <tr>\n",
       "      <th>2</th>\n",
       "      <td>5.6</td>\n",
       "      <td>2015-04-25 06:18:10.870000+05:45</td>\n",
       "      <td>POINT Z (86.0213 27.6857 10)</td>\n",
       "      <td>86.0213</td>\n",
       "      <td>27.6857</td>\n",
       "      <td>39.810717</td>\n",
       "    </tr>\n",
       "    <tr>\n",
       "      <th>3</th>\n",
       "      <td>5.4</td>\n",
       "      <td>2015-04-25 06:20:40.340000+05:45</td>\n",
       "      <td>POINT Z (84.492 28.2046 10)</td>\n",
       "      <td>84.4920</td>\n",
       "      <td>28.2046</td>\n",
       "      <td>25.118864</td>\n",
       "    </tr>\n",
       "    <tr>\n",
       "      <th>4</th>\n",
       "      <td>5.1</td>\n",
       "      <td>2015-04-25 06:22:02.750000+05:45</td>\n",
       "      <td>POINT Z (85.1141 27.8006 10)</td>\n",
       "      <td>85.1141</td>\n",
       "      <td>27.8006</td>\n",
       "      <td>12.589254</td>\n",
       "    </tr>\n",
       "  </tbody>\n",
       "</table>\n",
       "</div>"
      ],
      "text/plain": [
       "   mag                             time                        geometry  \\\n",
       "0  7.8 2015-04-25 06:11:25.950000+05:45  POINT Z (84.7314 28.2305 8.22)   \n",
       "1  6.1 2015-04-25 06:15:22.910000+05:45    POINT Z (85.5398 27.6285 10)   \n",
       "2  5.6 2015-04-25 06:18:10.870000+05:45    POINT Z (86.0213 27.6857 10)   \n",
       "3  5.4 2015-04-25 06:20:40.340000+05:45     POINT Z (84.492 28.2046 10)   \n",
       "4  5.1 2015-04-25 06:22:02.750000+05:45    POINT Z (85.1141 27.8006 10)   \n",
       "\n",
       "   longitude  latitude  marker_size  \n",
       "0    84.7314   28.2305  6309.573445  \n",
       "1    85.5398   27.6285   125.892541  \n",
       "2    86.0213   27.6857    39.810717  \n",
       "3    84.4920   28.2046    25.118864  \n",
       "4    85.1141   27.8006    12.589254  "
      ]
     },
     "execution_count": 4,
     "metadata": {},
     "output_type": "execute_result"
    }
   ],
   "source": [
    "min_marker_size = 10\n",
    "min_magnitude = 5\n",
    "quakes[\"marker_size\"] = min_marker_size * (10 ** (quakes[\"mag\"] - min_magnitude))\n",
    "\n",
    "quakes.head()"
   ]
  },
  {
   "cell_type": "markdown",
   "id": "5162dee5-4515-425e-9bc8-70fd01b8e978",
   "metadata": {},
   "source": [
    "### A basic animated scatter plot\n",
    "\n",
    "Generating a simple animated scatter plot in *Matplotlib* is quite easy. Let's do that to start with."
   ]
  },
  {
   "cell_type": "code",
   "execution_count": 6,
   "id": "4e520595-8c3b-48b0-9a45-24da2144152c",
   "metadata": {},
   "outputs": [],
   "source": [
    "import contextily as cx\n",
    "import matplotlib.animation as animation\n",
    "import matplotlib.pyplot as plt\n",
    "import numpy as np\n",
    "\n",
    "fig, ax = plt.subplots(layout=\"constrained\", figsize=(6,5))\n",
    "ax.set(xlim=[minlongitude, maxlongitude], ylim=[minlatitude, maxlatitude])\n",
    "ax.set_title(\"The April 2015 Nepal earthquake and its aftershocks\")\n",
    "\n",
    "# add basemap\n",
    "cx.add_basemap(ax, crs=quakes.crs, zoom=8, source=\"CartoDB.Voyager\")\n",
    "\n",
    "# the first point in the animation\n",
    "points_opts = dict(alpha=0.5, linewidth=0, color=\"red\")\n",
    "points = ax.scatter(\n",
    "    quakes[\"longitude\"].iloc[0],\n",
    "    quakes[\"latitude\"].iloc[0],\n",
    "    s=quakes[\"marker_size\"].iloc[0],\n",
    "    **points_opts\n",
    ")\n",
    "\n",
    "# the first label\n",
    "# labels show the time of the earthquake\n",
    "label_opts = dict(ha=\"center\", va=\"center\", fontsize=15, color=\"black\", transform=ax.transAxes)\n",
    "label = ax.text(\n",
    "    0.25,\n",
    "    0.95,\n",
    "    quakes[\"time\"].iloc[0].strftime(\"%Y-%m-%d %H:%M\"),\n",
    "    **label_opts\n",
    ")\n",
    "\n",
    "# loop through each point in the data and draw a marker and legend for that data point\n",
    "def update(frame):\n",
    "    # for each frame, update the data stored on each artist.\n",
    "    x = quakes[\"longitude\"].iloc[:frame]\n",
    "    y = quakes[\"latitude\"].iloc[:frame]\n",
    "\n",
    "    # update the scatter plot:\n",
    "    data = np.stack([x, y]).T\n",
    "    points.set_offsets(data)\n",
    "\n",
    "    # set the size of the earthquakes\n",
    "    points.set_sizes(quakes[\"marker_size\"].iloc[:frame])\n",
    "\n",
    "    # update the label\n",
    "    label.set_text(quakes[\"time\"].iloc[frame - 1].strftime(\"%Y-%m-%d %H:%M\"))\n",
    "\n",
    "    return (points,)\n",
    "\n",
    "\n",
    "# animate by looping through all datapoints.\n",
    "ani = animation.FuncAnimation(\n",
    "    fig=fig, func=update, frames=len(quakes), interval=600\n",
    ")\n",
    "\n",
    "# To save the animation using Pillow as a gif\n",
    "writer = animation.PillowWriter(fps=10, bitrate=1800)\n",
    "ani.save(\"animated-scatter-v1.gif\", writer=writer)\n",
    "\n",
    "\n",
    "plt.ioff\n",
    "plt.close()"
   ]
  },
  {
   "cell_type": "markdown",
   "id": "a0ea47c7-1546-49af-ad7f-abe9c87623d9",
   "metadata": {},
   "source": [
    "This gives us a nice animated scatter plot.\\\n",
    "![Animated plot](./animated-scatter-v1.gif)\n",
    "\n",
    "But the legend is missing, without which the marker sizes don't have much meaning. I found adding the correct legend to be the most difficult part of this process because there aren't many working examples of this on the WWW."
   ]
  },
  {
   "cell_type": "markdown",
   "id": "af841912-81c6-4319-bbde-cff479bd102e",
   "metadata": {},
   "source": [
    "### Custom legend\n",
    "The solution that I ended up using is to add a custom legend that doesn't completely correspond with the data being plotted. This is because I wanted to show the magnitude legend from the get go even when only a small part of the data has been plotted initially. I used the [example](https://matplotlib.org/stable/gallery/text_labels_and_annotations/custom_legends.html) in the official documentation as a starting point.\n",
    "\n",
    "I want the legend to have 4 different sizes: 5, 6, 7, and 7.8 (*the strongest earthquake*). My first attempt was to generate the marker sizes as I did above and generate the legend. I added a Line2D object for each marker size, and use the collection of those Line2D objects to create the legend."
   ]
  },
  {
   "cell_type": "code",
   "execution_count": 7,
   "id": "53657b57-73d4-4b1b-bfeb-75745c1769d3",
   "metadata": {},
   "outputs": [
    {
     "data": {
      "text/plain": [
       "<matplotlib.legend.Legend at 0x7f7f10282b40>"
      ]
     },
     "execution_count": 7,
     "metadata": {},
     "output_type": "execute_result"
    },
    {
     "data": {
      "image/png": "[encoded data removed]",
      "text/plain": [
       "<Figure size 640x480 with 1 Axes>"
      ]
     },
     "metadata": {},
     "output_type": "display_data"
    }
   ],
   "source": [
    "from matplotlib.lines import Line2D\n",
    "\n",
    "# the four magnitudes in the legend\n",
    "mags = np.array([5, 6, 7, quakes['mag'].max()])\n",
    "marker_sizes = min_marker_size * (10 ** (mags - min_magnitude))\n",
    "\n",
    "def get_legend_elements(marker_sizes):\n",
    "    # marker size for each magnitude\n",
    "    marker_opts = dict(marker=\"o\", color=\"w\", markerfacecolor=\"red\", alpha=0.5)\n",
    "    legend_elements = [\n",
    "        Line2D(\n",
    "            [0],\n",
    "            [i],\n",
    "            label=mags[i],\n",
    "            markersize=s,\n",
    "            **marker_opts\n",
    "        )\n",
    "        for i, s in enumerate(marker_sizes)\n",
    "    ]\n",
    "    return legend_elements\n",
    "\n",
    "fig, ax = plt.subplots()\n",
    "legend_opts = dict(title=\"Magnitude\", labelspacing=1, frameon=False)\n",
    "ax.legend(handles=get_legend_elements(marker_sizes), **legend_opts, loc='center')"
   ]
  },
  {
   "cell_type": "markdown",
   "id": "578b5acf-2d91-4116-8d21-67d550409ace",
   "metadata": {},
   "source": [
    "That did't work as exepcted as the marker sizes were too big and didn't align with the marker sizes on the scatter plot. I arrived at the solution after a lot of digging around and trial and error.\n",
    "\n",
    "Looking at the `scatterplot` [documentation](https://matplotlib.org/stable/api/_as_gen/matplotlib.pyplot.scatter.html), it turns out that the marker size (`s`) is _points \\*\\* 2_. However, the marker size (`markersize`) in Line2D is only in _points_ This means the marker size for the legend should be square roots of the marker size for the scatter plot. *Perhaps I should have realised this much sooner.*\n",
    "\n",
    "Below is the 2nd version of the legend; and the sizes correspond with those in the plot."
   ]
  },
  {
   "cell_type": "code",
   "execution_count": 8,
   "id": "a0350d82-243b-4937-88a1-ca58a9ac50b8",
   "metadata": {},
   "outputs": [
    {
     "data": {
      "image/png": "[encoded data removed]",
      "text/plain": [
       "<Figure size 640x480 with 1 Axes>"
      ]
     },
     "metadata": {},
     "output_type": "display_data"
    }
   ],
   "source": [
    "# marker size for each magnitude\n",
    "marker_sizes = np.sqrt(min_marker_size * (10 ** (mags - min_magnitude)))\n",
    "\n",
    "fig, ax = plt.subplots()\n",
    "ax.legend(\n",
    "    handles=get_legend_elements(marker_sizes),\n",
    "    loc=\"center\",\n",
    "    title=\"Magnitude\",\n",
    "    labelspacing=1,\n",
    "    frameon=False\n",
    ")\n",
    "plt.show()"
   ]
  },
  {
   "cell_type": "markdown",
   "id": "8403403c-5a9c-48a6-a546-9f003f879e0b",
   "metadata": {},
   "source": [
    "## Second attempt"
   ]
  },
  {
   "cell_type": "code",
   "execution_count": 9,
   "id": "c36c804b-b8bc-4289-a589-e208609e1b5b",
   "metadata": {},
   "outputs": [],
   "source": [
    "fig, ax = plt.subplots(layout=\"constrained\", figsize=(7,5))\n",
    "ax.set(xlim=[minlongitude, maxlongitude], ylim=[minlatitude, maxlatitude])\n",
    "ax.set_title(\"The April 2015 Nepal earthquake and its aftershocks\")\n",
    "cx.add_basemap(ax, crs=quakes.crs, zoom=8, source=\"CartoDB.Voyager\")\n",
    "\n",
    "points = ax.scatter(\n",
    "    quakes[\"longitude\"].iloc[0],\n",
    "    quakes[\"latitude\"].iloc[0],\n",
    "    s=quakes[\"marker_size\"].iloc[0],\n",
    "    **points_opts\n",
    ")\n",
    "\n",
    "label = ax.text(\n",
    "    0.25,\n",
    "    0.95,\n",
    "    quakes[\"time\"].iloc[0].strftime(\"%Y-%m-%d %H:%M\"),\n",
    "    **label_opts\n",
    ")\n",
    "\n",
    "ax.legend(\n",
    "    handles=get_legend_elements(marker_sizes),\n",
    "    loc=\"center left\",\n",
    "    title=\"Magnitude\",\n",
    "    labelspacing=1,\n",
    "    frameon=False,\n",
    "    bbox_to_anchor=(1.05, 0.5), # place the legend to the right\n",
    ")\n",
    "\n",
    "ani = animation.FuncAnimation(\n",
    "    fig=fig, func=update, frames=len(quakes), interval=600\n",
    ")\n",
    "\n",
    "# To save the animation using Pillow as a gif\n",
    "writer = animation.PillowWriter(fps=15, bitrate=1800)\n",
    "ani.save(\"animated-scatter-v2.gif\", writer=writer)\n",
    "\n",
    "plt.ioff\n",
    "plt.close()"
   ]
  },
  {
   "cell_type": "markdown",
   "id": "a5bd60e1-89b3-4e07-adc0-36113400a151",
   "metadata": {},
   "source": [
    "Finally, this gave me the animated plot that I wanted to create.\\\n",
    "![Animated scatter plot v2](./animated-scatter-v2.gif)."
   ]
  }
 ],
 "metadata": {
  "language_info": {
   "name": "python"
  }
 },
 "nbformat": 4,
 "nbformat_minor": 5
}
